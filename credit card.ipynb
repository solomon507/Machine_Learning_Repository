{
 "cells": [
  {
   "cell_type": "code",
   "execution_count": 1,
   "metadata": {},
   "outputs": [],
   "source": [
    "#importing necessary libraries \n",
    "import numpy as np\n",
    "import pandas as pd\n",
    "import matplotlib.pyplot as plt\n",
    "import seaborn as sns\n",
    "from collections import Counter\n",
    "import itertools\n",
    "import numpy as np\n",
    "from sklearn.preprocessing import StandardScaler\n",
    "from sklearn.model_selection import train_test_split\n",
    "from sklearn.ensemble import RandomForestClassifier\n",
    "from sklearn.tree import DecisionTreeClassifier\n",
    "from sklearn.metrics import accuracy_score, precision_score, confusion_matrix, recall_score, f1_score\n"
   ]
  },
  {
   "cell_type": "code",
   "execution_count": 2,
   "metadata": {},
   "outputs": [
    {
     "data": {
      "text/html": [
       "<div>\n",
       "<style scoped>\n",
       "    .dataframe tbody tr th:only-of-type {\n",
       "        vertical-align: middle;\n",
       "    }\n",
       "\n",
       "    .dataframe tbody tr th {\n",
       "        vertical-align: top;\n",
       "    }\n",
       "\n",
       "    .dataframe thead th {\n",
       "        text-align: right;\n",
       "    }\n",
       "</style>\n",
       "<table border=\"1\" class=\"dataframe\">\n",
       "  <thead>\n",
       "    <tr style=\"text-align: right;\">\n",
       "      <th></th>\n",
       "      <th>Time</th>\n",
       "      <th>V1</th>\n",
       "      <th>V2</th>\n",
       "      <th>V3</th>\n",
       "      <th>V4</th>\n",
       "      <th>V5</th>\n",
       "      <th>V6</th>\n",
       "      <th>V7</th>\n",
       "      <th>V8</th>\n",
       "      <th>V9</th>\n",
       "      <th>...</th>\n",
       "      <th>V21</th>\n",
       "      <th>V22</th>\n",
       "      <th>V23</th>\n",
       "      <th>V24</th>\n",
       "      <th>V25</th>\n",
       "      <th>V26</th>\n",
       "      <th>V27</th>\n",
       "      <th>V28</th>\n",
       "      <th>Amount</th>\n",
       "      <th>Class</th>\n",
       "    </tr>\n",
       "  </thead>\n",
       "  <tbody>\n",
       "    <tr>\n",
       "      <th>0</th>\n",
       "      <td>0</td>\n",
       "      <td>-1.359807</td>\n",
       "      <td>-0.072781</td>\n",
       "      <td>2.536347</td>\n",
       "      <td>1.378155</td>\n",
       "      <td>-0.338321</td>\n",
       "      <td>0.462388</td>\n",
       "      <td>0.239599</td>\n",
       "      <td>0.098698</td>\n",
       "      <td>0.363787</td>\n",
       "      <td>...</td>\n",
       "      <td>-0.018307</td>\n",
       "      <td>0.277838</td>\n",
       "      <td>-0.110474</td>\n",
       "      <td>0.066928</td>\n",
       "      <td>0.128539</td>\n",
       "      <td>-0.189115</td>\n",
       "      <td>0.133558</td>\n",
       "      <td>-0.021053</td>\n",
       "      <td>149.62</td>\n",
       "      <td>0.0</td>\n",
       "    </tr>\n",
       "    <tr>\n",
       "      <th>1</th>\n",
       "      <td>0</td>\n",
       "      <td>1.191857</td>\n",
       "      <td>0.266151</td>\n",
       "      <td>0.166480</td>\n",
       "      <td>0.448154</td>\n",
       "      <td>0.060018</td>\n",
       "      <td>-0.082361</td>\n",
       "      <td>-0.078803</td>\n",
       "      <td>0.085102</td>\n",
       "      <td>-0.255425</td>\n",
       "      <td>...</td>\n",
       "      <td>-0.225775</td>\n",
       "      <td>-0.638672</td>\n",
       "      <td>0.101288</td>\n",
       "      <td>-0.339846</td>\n",
       "      <td>0.167170</td>\n",
       "      <td>0.125895</td>\n",
       "      <td>-0.008983</td>\n",
       "      <td>0.014724</td>\n",
       "      <td>2.69</td>\n",
       "      <td>0.0</td>\n",
       "    </tr>\n",
       "    <tr>\n",
       "      <th>2</th>\n",
       "      <td>1</td>\n",
       "      <td>-1.358354</td>\n",
       "      <td>-1.340163</td>\n",
       "      <td>1.773209</td>\n",
       "      <td>0.379780</td>\n",
       "      <td>-0.503198</td>\n",
       "      <td>1.800499</td>\n",
       "      <td>0.791461</td>\n",
       "      <td>0.247676</td>\n",
       "      <td>-1.514654</td>\n",
       "      <td>...</td>\n",
       "      <td>0.247998</td>\n",
       "      <td>0.771679</td>\n",
       "      <td>0.909412</td>\n",
       "      <td>-0.689281</td>\n",
       "      <td>-0.327642</td>\n",
       "      <td>-0.139097</td>\n",
       "      <td>-0.055353</td>\n",
       "      <td>-0.059752</td>\n",
       "      <td>378.66</td>\n",
       "      <td>0.0</td>\n",
       "    </tr>\n",
       "    <tr>\n",
       "      <th>3</th>\n",
       "      <td>1</td>\n",
       "      <td>-0.966272</td>\n",
       "      <td>-0.185226</td>\n",
       "      <td>1.792993</td>\n",
       "      <td>-0.863291</td>\n",
       "      <td>-0.010309</td>\n",
       "      <td>1.247203</td>\n",
       "      <td>0.237609</td>\n",
       "      <td>0.377436</td>\n",
       "      <td>-1.387024</td>\n",
       "      <td>...</td>\n",
       "      <td>-0.108300</td>\n",
       "      <td>0.005274</td>\n",
       "      <td>-0.190321</td>\n",
       "      <td>-1.175575</td>\n",
       "      <td>0.647376</td>\n",
       "      <td>-0.221929</td>\n",
       "      <td>0.062723</td>\n",
       "      <td>0.061458</td>\n",
       "      <td>123.50</td>\n",
       "      <td>0.0</td>\n",
       "    </tr>\n",
       "    <tr>\n",
       "      <th>4</th>\n",
       "      <td>2</td>\n",
       "      <td>-1.158233</td>\n",
       "      <td>0.877737</td>\n",
       "      <td>1.548718</td>\n",
       "      <td>0.403034</td>\n",
       "      <td>-0.407193</td>\n",
       "      <td>0.095921</td>\n",
       "      <td>0.592941</td>\n",
       "      <td>-0.270533</td>\n",
       "      <td>0.817739</td>\n",
       "      <td>...</td>\n",
       "      <td>-0.009431</td>\n",
       "      <td>0.798278</td>\n",
       "      <td>-0.137458</td>\n",
       "      <td>0.141267</td>\n",
       "      <td>-0.206010</td>\n",
       "      <td>0.502292</td>\n",
       "      <td>0.219422</td>\n",
       "      <td>0.215153</td>\n",
       "      <td>69.99</td>\n",
       "      <td>0.0</td>\n",
       "    </tr>\n",
       "    <tr>\n",
       "      <th>...</th>\n",
       "      <td>...</td>\n",
       "      <td>...</td>\n",
       "      <td>...</td>\n",
       "      <td>...</td>\n",
       "      <td>...</td>\n",
       "      <td>...</td>\n",
       "      <td>...</td>\n",
       "      <td>...</td>\n",
       "      <td>...</td>\n",
       "      <td>...</td>\n",
       "      <td>...</td>\n",
       "      <td>...</td>\n",
       "      <td>...</td>\n",
       "      <td>...</td>\n",
       "      <td>...</td>\n",
       "      <td>...</td>\n",
       "      <td>...</td>\n",
       "      <td>...</td>\n",
       "      <td>...</td>\n",
       "      <td>...</td>\n",
       "      <td>...</td>\n",
       "    </tr>\n",
       "    <tr>\n",
       "      <th>11660</th>\n",
       "      <td>19915</td>\n",
       "      <td>1.294875</td>\n",
       "      <td>-0.645847</td>\n",
       "      <td>0.689549</td>\n",
       "      <td>-0.351634</td>\n",
       "      <td>-1.026884</td>\n",
       "      <td>-0.129811</td>\n",
       "      <td>-0.928101</td>\n",
       "      <td>0.114172</td>\n",
       "      <td>0.804717</td>\n",
       "      <td>...</td>\n",
       "      <td>-0.097462</td>\n",
       "      <td>-0.020893</td>\n",
       "      <td>0.040297</td>\n",
       "      <td>0.159282</td>\n",
       "      <td>0.350705</td>\n",
       "      <td>-0.278351</td>\n",
       "      <td>-0.010354</td>\n",
       "      <td>-0.008003</td>\n",
       "      <td>10.00</td>\n",
       "      <td>0.0</td>\n",
       "    </tr>\n",
       "    <tr>\n",
       "      <th>11661</th>\n",
       "      <td>19915</td>\n",
       "      <td>1.404683</td>\n",
       "      <td>-0.554883</td>\n",
       "      <td>0.612239</td>\n",
       "      <td>-0.234956</td>\n",
       "      <td>-1.190992</td>\n",
       "      <td>-0.816824</td>\n",
       "      <td>-0.775771</td>\n",
       "      <td>-0.142637</td>\n",
       "      <td>1.121638</td>\n",
       "      <td>...</td>\n",
       "      <td>-0.196110</td>\n",
       "      <td>-0.303562</td>\n",
       "      <td>0.005661</td>\n",
       "      <td>0.313352</td>\n",
       "      <td>0.473813</td>\n",
       "      <td>-0.276618</td>\n",
       "      <td>-0.024026</td>\n",
       "      <td>0.002106</td>\n",
       "      <td>5.00</td>\n",
       "      <td>0.0</td>\n",
       "    </tr>\n",
       "    <tr>\n",
       "      <th>11662</th>\n",
       "      <td>19915</td>\n",
       "      <td>-0.945541</td>\n",
       "      <td>0.479754</td>\n",
       "      <td>1.521916</td>\n",
       "      <td>-1.298658</td>\n",
       "      <td>-0.852548</td>\n",
       "      <td>-0.604029</td>\n",
       "      <td>-0.354686</td>\n",
       "      <td>0.498106</td>\n",
       "      <td>0.407159</td>\n",
       "      <td>...</td>\n",
       "      <td>-0.050745</td>\n",
       "      <td>0.056031</td>\n",
       "      <td>-0.055584</td>\n",
       "      <td>0.312195</td>\n",
       "      <td>0.026299</td>\n",
       "      <td>-0.413466</td>\n",
       "      <td>0.189152</td>\n",
       "      <td>0.086360</td>\n",
       "      <td>10.00</td>\n",
       "      <td>0.0</td>\n",
       "    </tr>\n",
       "    <tr>\n",
       "      <th>11663</th>\n",
       "      <td>19915</td>\n",
       "      <td>-0.087909</td>\n",
       "      <td>0.184093</td>\n",
       "      <td>1.683910</td>\n",
       "      <td>-0.837378</td>\n",
       "      <td>-0.682605</td>\n",
       "      <td>-0.669907</td>\n",
       "      <td>-0.056222</td>\n",
       "      <td>-0.120669</td>\n",
       "      <td>0.409636</td>\n",
       "      <td>...</td>\n",
       "      <td>-0.109428</td>\n",
       "      <td>-0.054760</td>\n",
       "      <td>-0.139329</td>\n",
       "      <td>0.333267</td>\n",
       "      <td>0.072695</td>\n",
       "      <td>-0.320292</td>\n",
       "      <td>0.006423</td>\n",
       "      <td>0.010148</td>\n",
       "      <td>10.00</td>\n",
       "      <td>0.0</td>\n",
       "    </tr>\n",
       "    <tr>\n",
       "      <th>11664</th>\n",
       "      <td>19915</td>\n",
       "      <td>1.504229</td>\n",
       "      <td>-0.499337</td>\n",
       "      <td>0.052377</td>\n",
       "      <td>-0.576345</td>\n",
       "      <td>-0.393971</td>\n",
       "      <td>0.015149</td>\n",
       "      <td>-0.718603</td>\n",
       "      <td>-0.125852</td>\n",
       "      <td>1.023281</td>\n",
       "      <td>...</td>\n",
       "      <td>NaN</td>\n",
       "      <td>NaN</td>\n",
       "      <td>NaN</td>\n",
       "      <td>NaN</td>\n",
       "      <td>NaN</td>\n",
       "      <td>NaN</td>\n",
       "      <td>NaN</td>\n",
       "      <td>NaN</td>\n",
       "      <td>NaN</td>\n",
       "      <td>NaN</td>\n",
       "    </tr>\n",
       "  </tbody>\n",
       "</table>\n",
       "<p>11665 rows × 31 columns</p>\n",
       "</div>"
      ],
      "text/plain": [
       "        Time        V1        V2        V3        V4        V5        V6  \\\n",
       "0          0 -1.359807 -0.072781  2.536347  1.378155 -0.338321  0.462388   \n",
       "1          0  1.191857  0.266151  0.166480  0.448154  0.060018 -0.082361   \n",
       "2          1 -1.358354 -1.340163  1.773209  0.379780 -0.503198  1.800499   \n",
       "3          1 -0.966272 -0.185226  1.792993 -0.863291 -0.010309  1.247203   \n",
       "4          2 -1.158233  0.877737  1.548718  0.403034 -0.407193  0.095921   \n",
       "...      ...       ...       ...       ...       ...       ...       ...   \n",
       "11660  19915  1.294875 -0.645847  0.689549 -0.351634 -1.026884 -0.129811   \n",
       "11661  19915  1.404683 -0.554883  0.612239 -0.234956 -1.190992 -0.816824   \n",
       "11662  19915 -0.945541  0.479754  1.521916 -1.298658 -0.852548 -0.604029   \n",
       "11663  19915 -0.087909  0.184093  1.683910 -0.837378 -0.682605 -0.669907   \n",
       "11664  19915  1.504229 -0.499337  0.052377 -0.576345 -0.393971  0.015149   \n",
       "\n",
       "             V7        V8        V9  ...       V21       V22       V23  \\\n",
       "0      0.239599  0.098698  0.363787  ... -0.018307  0.277838 -0.110474   \n",
       "1     -0.078803  0.085102 -0.255425  ... -0.225775 -0.638672  0.101288   \n",
       "2      0.791461  0.247676 -1.514654  ...  0.247998  0.771679  0.909412   \n",
       "3      0.237609  0.377436 -1.387024  ... -0.108300  0.005274 -0.190321   \n",
       "4      0.592941 -0.270533  0.817739  ... -0.009431  0.798278 -0.137458   \n",
       "...         ...       ...       ...  ...       ...       ...       ...   \n",
       "11660 -0.928101  0.114172  0.804717  ... -0.097462 -0.020893  0.040297   \n",
       "11661 -0.775771 -0.142637  1.121638  ... -0.196110 -0.303562  0.005661   \n",
       "11662 -0.354686  0.498106  0.407159  ... -0.050745  0.056031 -0.055584   \n",
       "11663 -0.056222 -0.120669  0.409636  ... -0.109428 -0.054760 -0.139329   \n",
       "11664 -0.718603 -0.125852  1.023281  ...       NaN       NaN       NaN   \n",
       "\n",
       "            V24       V25       V26       V27       V28  Amount  Class  \n",
       "0      0.066928  0.128539 -0.189115  0.133558 -0.021053  149.62    0.0  \n",
       "1     -0.339846  0.167170  0.125895 -0.008983  0.014724    2.69    0.0  \n",
       "2     -0.689281 -0.327642 -0.139097 -0.055353 -0.059752  378.66    0.0  \n",
       "3     -1.175575  0.647376 -0.221929  0.062723  0.061458  123.50    0.0  \n",
       "4      0.141267 -0.206010  0.502292  0.219422  0.215153   69.99    0.0  \n",
       "...         ...       ...       ...       ...       ...     ...    ...  \n",
       "11660  0.159282  0.350705 -0.278351 -0.010354 -0.008003   10.00    0.0  \n",
       "11661  0.313352  0.473813 -0.276618 -0.024026  0.002106    5.00    0.0  \n",
       "11662  0.312195  0.026299 -0.413466  0.189152  0.086360   10.00    0.0  \n",
       "11663  0.333267  0.072695 -0.320292  0.006423  0.010148   10.00    0.0  \n",
       "11664       NaN       NaN       NaN       NaN       NaN     NaN    NaN  \n",
       "\n",
       "[11665 rows x 31 columns]"
      ]
     },
     "execution_count": 2,
     "metadata": {},
     "output_type": "execute_result"
    }
   ],
   "source": [
    "data = pd.read_csv(r\"D:\\Intellipaat\\lms assignments\\datasets\\Project-Dataset.csv\\creditcard.csv.crdownload\")\n",
    "data"
   ]
  },
  {
   "cell_type": "code",
   "execution_count": 3,
   "metadata": {},
   "outputs": [],
   "source": [
    "data.isna().sum().sum()\n",
    "data = data.dropna()"
   ]
  },
  {
   "cell_type": "code",
   "execution_count": 4,
   "metadata": {},
   "outputs": [
    {
     "data": {
      "text/plain": [
       "False"
      ]
     },
     "execution_count": 4,
     "metadata": {},
     "output_type": "execute_result"
    }
   ],
   "source": [
    "data.isnull().values.any()"
   ]
  },
  {
   "cell_type": "code",
   "execution_count": 5,
   "metadata": {},
   "outputs": [
    {
     "data": {
      "text/plain": [
       "count    11664.000000\n",
       "mean        62.795132\n",
       "std        179.816783\n",
       "min          0.000000\n",
       "25%          5.000000\n",
       "50%         15.950000\n",
       "75%         50.000000\n",
       "max       7712.430000\n",
       "Name: Amount, dtype: float64"
      ]
     },
     "execution_count": 5,
     "metadata": {},
     "output_type": "execute_result"
    }
   ],
   "source": [
    "data[\"Amount\"].describe()"
   ]
  },
  {
   "cell_type": "code",
   "execution_count": 6,
   "metadata": {},
   "outputs": [
    {
     "name": "stdout",
     "output_type": "stream",
     "text": [
      "Number of Genuine transactions:  11615\n",
      "Number of Fraud transactions:  49\n",
      "Percentage of Fraud transactions: 0.4201\n"
     ]
    }
   ],
   "source": [
    "non_fraud = len(data[data.Class == 0])\n",
    "fraud = len(data[data.Class == 1])\n",
    "fraud_percent = (fraud / (fraud + non_fraud)) * 100\n",
    "print(\"Number of Genuine transactions: \", non_fraud)\n",
    "print(\"Number of Fraud transactions: \", fraud)\n",
    "print(\"Percentage of Fraud transactions: {:.4f}\".format(fraud_percent))"
   ]
  },
  {
   "cell_type": "code",
   "execution_count": 7,
   "metadata": {},
   "outputs": [
    {
     "data": {
      "image/png": "[encoded data removed]",
      "text/plain": [
       "<Figure size 640x480 with 1 Axes>"
      ]
     },
     "metadata": {},
     "output_type": "display_data"
    }
   ],
   "source": [
    "labels = [\"Genuine\", \"Fraud\"]\n",
    "count_classes = data.value_counts(data['Class'], sort= True)\n",
    "count_classes.plot(kind = \"bar\", rot = 0)\n",
    "plt.title(\"Visualization of Labels\")\n",
    "plt.ylabel(\"Count\")\n",
    "plt.xticks(range(2), labels)\n",
    "plt.show()"
   ]
  },
  {
   "cell_type": "code",
   "execution_count": 8,
   "metadata": {},
   "outputs": [
    {
     "name": "stderr",
     "output_type": "stream",
     "text": [
      "C:\\Users\\mahes\\AppData\\Local\\Temp\\ipykernel_42120\\3195871508.py:2: SettingWithCopyWarning: \n",
      "A value is trying to be set on a copy of a slice from a DataFrame.\n",
      "Try using .loc[row_indexer,col_indexer] = value instead\n",
      "\n",
      "See the caveats in the documentation: https://pandas.pydata.org/pandas-docs/stable/user_guide/indexing.html#returning-a-view-versus-a-copy\n",
      "  data[\"NormalizedAmount\"] = scaler.fit_transform(data[\"Amount\"].values.reshape(-1, 1))\n",
      "C:\\Users\\mahes\\AppData\\Local\\Temp\\ipykernel_42120\\3195871508.py:3: SettingWithCopyWarning: \n",
      "A value is trying to be set on a copy of a slice from a DataFrame\n",
      "\n",
      "See the caveats in the documentation: https://pandas.pydata.org/pandas-docs/stable/user_guide/indexing.html#returning-a-view-versus-a-copy\n",
      "  data.drop([\"Amount\", \"Time\"], inplace= True, axis= 1)\n"
     ]
    }
   ],
   "source": [
    "scaler = StandardScaler()\n",
    "data[\"NormalizedAmount\"] = scaler.fit_transform(data[\"Amount\"].values.reshape(-1, 1))\n",
    "data.drop([\"Amount\", \"Time\"], inplace= True, axis= 1)\n",
    "Y = data[\"Class\"]\n",
    "X = data.drop([\"Class\"], axis= 1)"
   ]
  },
  {
   "cell_type": "code",
   "execution_count": 9,
   "metadata": {},
   "outputs": [
    {
     "name": "stdout",
     "output_type": "stream",
     "text": [
      "Shape of train_X:  (8164, 29)\n",
      "Shape of test_X:  (3500, 29)\n"
     ]
    }
   ],
   "source": [
    "(train_X, test_X, train_Y, test_Y) = train_test_split(X, Y, test_size= 0.3, random_state= 42)\n",
    "print(\"Shape of train_X: \", train_X.shape)\n",
    "print(\"Shape of test_X: \", test_X.shape)\n"
   ]
  },
  {
   "cell_type": "code",
   "execution_count": 10,
   "metadata": {},
   "outputs": [],
   "source": [
    "decision_tree = DecisionTreeClassifier()\n",
    "random_forest = RandomForestClassifier(n_estimators= 100)"
   ]
  },
  {
   "cell_type": "code",
   "execution_count": 11,
   "metadata": {},
   "outputs": [
    {
     "name": "stdout",
     "output_type": "stream",
     "text": [
      "Random Forest Score:  99.91428571428571\n",
      "Decision Tree Score:  99.82857142857144\n"
     ]
    }
   ],
   "source": [
    "decision_tree.fit(train_X, train_Y)\n",
    "predictions_dt = decision_tree.predict(test_X)\n",
    "decision_tree_score = decision_tree.score(test_X, test_Y) * 100\n",
    "random_forest.fit(train_X, train_Y)\n",
    "predictions_rf = random_forest.predict(test_X)\n",
    "random_forest_score = random_forest.score(test_X, test_Y) * 100\n",
    "print(\"Random Forest Score: \", random_forest_score)\n",
    "print(\"Decision Tree Score: \", decision_tree_score)"
   ]
  },
  {
   "cell_type": "code",
   "execution_count": 12,
   "metadata": {},
   "outputs": [
    {
     "data": {
      "text/plain": [
       "array([0., 0., 0., 0., 0., 0., 0., 0., 0., 0., 0., 0., 0., 0., 0., 0., 0.,\n",
       "       0., 0., 0.])"
      ]
     },
     "execution_count": 12,
     "metadata": {},
     "output_type": "execute_result"
    }
   ],
   "source": [
    "predictions_dt[:20]"
   ]
  },
  {
   "cell_type": "code",
   "execution_count": 13,
   "metadata": {},
   "outputs": [
    {
     "data": {
      "text/plain": [
       "array([0., 0., 0., 0., 0., 0., 0., 0., 0., 0., 0., 0., 0., 0., 0., 0., 0.,\n",
       "       0., 0., 0.])"
      ]
     },
     "execution_count": 13,
     "metadata": {},
     "output_type": "execute_result"
    }
   ],
   "source": [
    "predictions_rf[:20]"
   ]
  },
  {
   "cell_type": "code",
   "execution_count": 14,
   "metadata": {},
   "outputs": [],
   "source": [
    "def metrics(actuals, predictions):\n",
    "    print(\"Accuracy: {:.5f}\".format(accuracy_score(actuals, predictions)))\n",
    "    print(\"Precision: {:.5f}\".format(precision_score(actuals, predictions)))\n",
    "    print(\"Recall: {:.5f}\".format(recall_score(actuals, predictions)))\n",
    "    print(\"F1-score: {:.5f}\".format(f1_score(actuals, predictions)))"
   ]
  },
  {
   "cell_type": "code",
   "execution_count": 15,
   "metadata": {},
   "outputs": [
    {
     "name": "stdout",
     "output_type": "stream",
     "text": [
      "Confusion Matrix - Decision Tree\n",
      "[[3481    3]\n",
      " [   3   13]]\n"
     ]
    }
   ],
   "source": [
    "confusion_matrix_dt = confusion_matrix(test_Y, predictions_dt.round())\n",
    "print(\"Confusion Matrix - Decision Tree\")\n",
    "print(confusion_matrix_dt)\n"
   ]
  },
  {
   "cell_type": "code",
   "execution_count": 16,
   "metadata": {},
   "outputs": [
    {
     "name": "stdout",
     "output_type": "stream",
     "text": [
      "Accuracy: 0.99829\n",
      "Precision: 0.81250\n",
      "Recall: 0.81250\n",
      "F1-score: 0.81250\n"
     ]
    }
   ],
   "source": [
    "metrics(test_Y, predictions_dt)"
   ]
  },
  {
   "cell_type": "code",
   "execution_count": null,
   "metadata": {},
   "outputs": [],
   "source": []
  },
  {
   "cell_type": "code",
   "execution_count": null,
   "metadata": {},
   "outputs": [],
   "source": []
  }
 ],
 "metadata": {
  "kernelspec": {
   "display_name": "Python 3 (ipykernel)",
   "language": "python",
   "name": "python3"
  },
  "language_info": {
   "codemirror_mode": {
    "name": "ipython",
    "version": 3
   },
   "file_extension": ".py",
   "mimetype": "text/x-python",
   "name": "python",
   "nbconvert_exporter": "python",
   "pygments_lexer": "ipython3",
   "version": "3.10.9"
  }
 },
 "nbformat": 4,
 "nbformat_minor": 2
}
